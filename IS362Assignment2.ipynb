{
 "cells": [
  {
   "cell_type": "code",
   "execution_count": null,
   "id": "1b069e12",
   "metadata": {},
   "outputs": [],
   "source": [
    "## Set Comprehensions \n",
    "\n",
    "In Python, Comprehensions are used as a shorter way to generate sequences of data structures like lists or dictionaries.\n",
    "The same can be done for sets, the elements of which are unordered and do not contain duplicates.\n"
   ]
  },
  {
   "cell_type": "code",
   "execution_count": null,
   "id": "ec22d8a9",
   "metadata": {},
   "outputs": [],
   "source": [
    "This image from [Towards Data Science](https://towardsdatascience.com/comprehending-the-concept-of-comprehensions-in-python-c9dafce5111?gi=4345e1178854) shows what a Comprehension is composed of: \n",
    "\n",
    "![image](comp.png)"
   ]
  },
  {
   "cell_type": "code",
   "execution_count": null,
   "id": "64b91d09",
   "metadata": {},
   "outputs": [],
   "source": [
    "## Examples \n",
    "\n",
    "A set can be generated with Python code as in the example below, using a “for loop”: "
   ]
  },
  {
   "cell_type": "code",
   "execution_count": null,
   "id": "370f4787",
   "metadata": {},
   "outputs": [],
   "source": [
    "    cubed = set()\n",
    "    for num in range(4):\n",
    "        cubed.add(num**3)\n",
    "    \n",
    "    print(cubed)"
   ]
  },
  {
   "cell_type": "code",
   "execution_count": null,
   "id": "9dc4cae7",
   "metadata": {},
   "outputs": [],
   "source": [
    "However, the same set can be generated with a comprehension:"
   ]
  },
  {
   "cell_type": "code",
   "execution_count": null,
   "id": "7524ae7e",
   "metadata": {},
   "outputs": [],
   "source": [
    "    cubed = {num ** 3 for num in range(4)}\n",
    "    print(cubed)"
   ]
  },
  {
   "cell_type": "code",
   "execution_count": null,
   "id": "9e662c2c",
   "metadata": {},
   "outputs": [],
   "source": [
    "Notice that there are fewer lines of code using the comprehensionto achive the same results."
   ]
  }
 ],
 "metadata": {
  "kernelspec": {
   "display_name": "Python 3",
   "language": "python",
   "name": "python3"
  },
  "language_info": {
   "codemirror_mode": {
    "name": "ipython",
    "version": 3
   },
   "file_extension": ".py",
   "mimetype": "text/x-python",
   "name": "python",
   "nbconvert_exporter": "python",
   "pygments_lexer": "ipython3",
   "version": "3.8.10"
  }
 },
 "nbformat": 4,
 "nbformat_minor": 5
}
